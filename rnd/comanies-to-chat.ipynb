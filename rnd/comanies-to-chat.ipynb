{
 "cells": [
  {
   "cell_type": "code",
   "id": "initial_id",
   "metadata": {
    "collapsed": true,
    "ExecuteTime": {
     "end_time": "2025-08-12T00:13:48.208820Z",
     "start_time": "2025-08-12T00:13:47.905887Z"
    }
   },
   "source": [
    "import pandas as pd\n",
    "from pathlib import Path"
   ],
   "outputs": [],
   "execution_count": 1
  },
  {
   "metadata": {
    "ExecuteTime": {
     "end_time": "2025-08-12T00:13:48.382143Z",
     "start_time": "2025-08-12T00:13:48.359456Z"
    }
   },
   "cell_type": "code",
   "source": "df = pd.read_csv('../website-chat/companies-investments-view.csv')",
   "id": "a50f8b7be9187d1e",
   "outputs": [],
   "execution_count": 3
  },
  {
   "metadata": {
    "ExecuteTime": {
     "end_time": "2025-08-12T00:13:48.489976Z",
     "start_time": "2025-08-12T00:13:48.486935Z"
    }
   },
   "cell_type": "code",
   "source": [
    "texts = []\n",
    "texts.append(f'# DVC Portfolio companies: {len(df)}')"
   ],
   "id": "8f7ce99c82a15f5a",
   "outputs": [],
   "execution_count": 5
  },
  {
   "metadata": {
    "ExecuteTime": {
     "end_time": "2025-08-12T00:13:48.611508Z",
     "start_time": "2025-08-12T00:13:48.601202Z"
    }
   },
   "cell_type": "code",
   "source": [
    "for i, row in df.iterrows():\n",
    "    # print(row)\n",
    "    # break\n",
    "    text = f\"\"\"\n",
    "## Portfolio company: {row.Company}\n",
    "\n",
    "Name: {row.Company}\n",
    "URL: {row.URL}\n",
    "Main Industry: {row['Main Industry']}\n",
    "Date we invested: {row['Date We First Invested']}\n",
    "Stage we invested: {row['Stage when we invested']}\n",
    "Initial Fund invested: {row['Initial Fund Invested From']}\n",
    "About: {row['Blurb']}\n",
    "\"\"\"\n",
    "    # texts.append('\\n')\n",
    "    texts.append(text)\n"
   ],
   "id": "e3b62473ff6dcce1",
   "outputs": [],
   "execution_count": 6
  },
  {
   "metadata": {
    "ExecuteTime": {
     "end_time": "2025-08-12T00:13:48.734624Z",
     "start_time": "2025-08-12T00:13:48.731167Z"
    }
   },
   "cell_type": "code",
   "source": "Path('../website-chat/portfolio.md').write_text('\\n'.join(texts) + '\\n')",
   "id": "ab21e46a4ba008af",
   "outputs": [
    {
     "data": {
      "text/plain": [
       "61453"
      ]
     },
     "execution_count": 7,
     "metadata": {},
     "output_type": "execute_result"
    }
   ],
   "execution_count": 7
  }
 ],
 "metadata": {
  "kernelspec": {
   "display_name": "Python 3",
   "language": "python",
   "name": "python3"
  },
  "language_info": {
   "codemirror_mode": {
    "name": "ipython",
    "version": 2
   },
   "file_extension": ".py",
   "mimetype": "text/x-python",
   "name": "python",
   "nbconvert_exporter": "python",
   "pygments_lexer": "ipython2",
   "version": "2.7.6"
  }
 },
 "nbformat": 4,
 "nbformat_minor": 5
}
